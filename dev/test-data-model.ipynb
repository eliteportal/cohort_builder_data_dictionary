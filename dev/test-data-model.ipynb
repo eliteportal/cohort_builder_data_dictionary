{
 "cells": [
  {
   "cell_type": "code",
   "execution_count": 1,
   "metadata": {},
   "outputs": [],
   "source": [
    "# Setup\n",
    "\n",
    "# Packages\n",
    "import os\n",
    "from localutils import localcube\n",
    "\n",
    "# main variables\n",
    "csv_model, json_model, manifest_basename = localcube.import_config()"
   ]
  },
  {
   "cell_type": "code",
   "execution_count": 2,
   "metadata": {},
   "outputs": [],
   "source": [
    "# print(f\"schematic manifest --config {config['paths']['schematic']} get\")"
   ]
  },
  {
   "cell_type": "code",
   "execution_count": 3,
   "metadata": {},
   "outputs": [],
   "source": [
    "# manifest_path = \"C:/Users/nlee/Documents/Projects/schematic/schematic/tests/data/mock_manifests/example_biospecimen_test.csv\"\n",
    "# !schematic model --config config['paths']['schematic'] /\n",
    "#     validate --manifest_path  manifest_path/\n",
    "#     --data_type Biospecimen"
   ]
  },
  {
   "cell_type": "code",
   "execution_count": null,
   "metadata": {},
   "outputs": [
    {
     "data": {
      "text/plain": [
       "{'FileMapToIndividual': 'FileMapToIndividual',\n",
       " 'IndividualMetadata': 'Individual Metadata'}"
      ]
     },
     "execution_count": 15,
     "metadata": {},
     "output_type": "execute_result"
    }
   ],
   "source": [
    "import json\n",
    "\n",
    "\n",
    "def get_mainfest_names(json_object):\n",
    "    \"\"\"Helper function for create dca config. Relies on having template in the properties column of templates\"\"\"\n",
    "    # Manifest names in data model\n",
    "    manifest_names_extracted = []\n",
    "\n",
    "    for i in json_object[\"@graph\"]:\n",
    "        if i[\"@id\"] == \"bts:template\":\n",
    "            manifest_names_extracted += [\n",
    "                t[\"@id\"].replace(\"bts:\", \"\") for t in i[\"schema:domainIncludes\"]\n",
    "            ]\n",
    "\n",
    "    # display names extracted\n",
    "    manifest_display_names_extracted = []\n",
    "\n",
    "    for i in json_object[\"@graph\"]:\n",
    "        if i[\"@id\"].replace(\"bts:\", \"\") in (manifest_names_extracted):\n",
    "            manifest_display_names_extracted.append(i[\"sms:displayName\"])\n",
    "\n",
    "    # Create dictionary for lookup later\n",
    "    manifest_name_relationships = dict(\n",
    "        zip(manifest_names_extracted, manifest_display_names_extracted)\n",
    "    )\n",
    "\n",
    "    return manifest_name_relationships\n",
    "\n",
    "# Data modeling functions for manifest generation\n",
    "\n",
    "\n",
    "def manifest_schema(k, v, t=\"file\"):\n",
    "    \"\"\"Helper function for create dca config\"\"\"\n",
    "    schema = {\"display_name\": v, \"schema_name\": k, \"type\": t}\n",
    "\n",
    "    return schema\n",
    "\n",
    "\n",
    "def create_dca_config(json_model):\n",
    "    # look up dca config\n",
    "    # if dca config exisits -> update schema version\n",
    "    # else create dca config\n",
    "\n",
    "    dca_template = {\n",
    "        \"manifest_schemas\": [],\n",
    "        \"service_version\": \"v23.1.1\",\n",
    "        \"schema_version\": \"v1.1\",\n",
    "    }\n",
    "\n",
    "    records = [\"FileMapToIndividual\", \"IndividualMetadata\"]\n",
    "\n",
    "    with open(json_model, \"r\") as jf:\n",
    "        jo = json.load(jf)\n",
    "\n",
    "    manifest_dict = get_mainfest_names(jo)\n",
    "\n",
    "    for k, v in manifest_dict.items():\n",
    "        if k in records:\n",
    "            t = \"records\"\n",
    "        else:\n",
    "            t = \"file\"\n",
    "        dca_template[\"manifest_schemas\"].append(manifest_schema(k, v, t))\n",
    "\n",
    "    json_formatted_str = json.dumps(dca_template, indent=2)\n",
    "\n",
    "    print(json_formatted_str)\n",
    "\n",
    "    with open(\n",
    "        \"../dca-template-config.json\",\n",
    "        \"w\",\n",
    "    ) as f:\n",
    "        f.write(json_formatted_str)"
   ]
  },
  {
   "cell_type": "code",
   "execution_count": 21,
   "metadata": {},
   "outputs": [
    {
     "name": "stdout",
     "output_type": "stream",
     "text": [
      "{\n",
      "  \"manifest_schemas\": [\n",
      "    {\n",
      "      \"display_name\": \"FileMapToIndividual\",\n",
      "      \"schema_name\": \"FileMapToIndividual\",\n",
      "      \"type\": \"records\"\n",
      "    },\n",
      "    {\n",
      "      \"display_name\": \"Individual Metadata\",\n",
      "      \"schema_name\": \"IndividualMetadata\",\n",
      "      \"type\": \"records\"\n",
      "    }\n",
      "  ],\n",
      "  \"service_version\": \"v23.1.1\",\n",
      "  \"schema_version\": \"v1.1\"\n",
      "}\n"
     ]
    }
   ],
   "source": [
    "create_dca_config(json_model)"
   ]
  }
 ],
 "metadata": {
  "kernelspec": {
   "display_name": "cohort-builder-data-dictionary-fOfjgXmU-py3.10",
   "language": "python",
   "name": "python3"
  },
  "language_info": {
   "codemirror_mode": {
    "name": "ipython",
    "version": 3
   },
   "file_extension": ".py",
   "mimetype": "text/x-python",
   "name": "python",
   "nbconvert_exporter": "python",
   "pygments_lexer": "ipython3",
   "version": "3.10.13"
  },
  "orig_nbformat": 4
 },
 "nbformat": 4,
 "nbformat_minor": 2
}
